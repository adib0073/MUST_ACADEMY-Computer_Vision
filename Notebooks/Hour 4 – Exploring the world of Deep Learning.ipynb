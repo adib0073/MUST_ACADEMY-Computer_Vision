{
 "cells": [
  {
   "cell_type": "markdown",
   "metadata": {},
   "source": [
    "## Hour 4 – Exploring the world of Deep Learning"
   ]
  },
  {
   "cell_type": "code",
   "execution_count": 2,
   "metadata": {},
   "outputs": [
    {
     "name": "stdout",
     "output_type": "stream",
     "text": [
      "opencv: 4.2.0\n",
      "numpy: 1.18.4\n",
      "matplotlib: 2.2.2\n",
      "pandas: 0.23.4\n",
      "keras: 2.2.4\n",
      "tensorflow: 1.13.1\n"
     ]
    }
   ],
   "source": [
    "#! pip install opencv-python\n",
    "# LinK : https://pypi.org/project/opencv-python/\n",
    "import cv2\n",
    "print('opencv:',cv2.__version__)\n",
    "\n",
    "#! pip install numpy \n",
    "#! pip install matplotlib\n",
    "#! pip install pandas\n",
    "\n",
    "import numpy as np\n",
    "print('numpy:',np.__version__)\n",
    "\n",
    "import matplotlib\n",
    "import matplotlib.pyplot as plt\n",
    "print('matplotlib:',matplotlib.__version__)\n",
    "\n",
    "import pandas as pd\n",
    "print('pandas:',pd.__version__)\n",
    "\n",
    "import warnings\n",
    "warnings.filterwarnings('ignore')\n",
    "\n",
    "import keras\n",
    "print('keras:',keras.__version__)\n",
    "\n",
    "import tensorflow as tf\n",
    "print('tensorflow:',tf.__version__)"
   ]
  },
  {
   "cell_type": "markdown",
   "metadata": {},
   "source": [
    "Topics to be discussed\n",
    "\n",
    "1.\tIntroduction to CNNs\n",
    "2.\tMulti-Class Classification using Images\n",
    "3.\tOne shot learning for face detection\n",
    "4.\tAdvanced computer vision deep learning concepts – Neural Style Transfer and GANs\n"
   ]
  },
  {
   "cell_type": "markdown",
   "metadata": {},
   "source": [
    "### Introduction to CNNs\n",
    "\n",
    "We will take a quick tour of Computer Vision using Deep Learning. So, in this section, before we can jump on the actual hands-on session, we would go through some theory first to get a better understanding of what we are going to implement."
   ]
  },
  {
   "cell_type": "markdown",
   "metadata": {},
   "source": [
    "Please take some time to go through the slides: **Computer Vision using Deep Learning** provided under the resource folder."
   ]
  },
  {
   "cell_type": "markdown",
   "metadata": {},
   "source": [
    "Main concepts to understand: \n",
    "\n",
    "1. Convolutional Neural Networks (CNN or ConvNets)\n",
    "2. Popular ConvNet Architectures\n",
    "3. Data Augmentation\n",
    "4. Transfer Learning\n",
    "5. Object Detection\n",
    "6. Neural Style Transfer\n",
    "7. Generative Adversarial Networks (GANs)\n",
    "8. Variational Auto Encoders (VAEs)\n"
   ]
  },
  {
   "cell_type": "markdown",
   "metadata": {},
   "source": [
    "### Multi-Class Image Classification using CNNs"
   ]
  }
 ],
 "metadata": {
  "kernelspec": {
   "display_name": "Python 3",
   "language": "python",
   "name": "python3"
  },
  "language_info": {
   "codemirror_mode": {
    "name": "ipython",
    "version": 3
   },
   "file_extension": ".py",
   "mimetype": "text/x-python",
   "name": "python",
   "nbconvert_exporter": "python",
   "pygments_lexer": "ipython3",
   "version": "3.5.6"
  }
 },
 "nbformat": 4,
 "nbformat_minor": 2
}
